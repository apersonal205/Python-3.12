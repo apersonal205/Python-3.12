{
 "cells": [
  {
   "cell_type": "markdown",
   "metadata": {},
   "source": [
    "# Multiline excute code"
   ]
  },
  {
   "cell_type": "code",
   "execution_count": 1,
   "metadata": {},
   "outputs": [
    {
     "name": "stdout",
     "output_type": "stream",
     "text": [
      "My Name is Tariq\n",
      "12\n"
     ]
    }
   ],
   "source": [
    "emp_detail : str = \"\"\"\n",
    "print(\"My Name is Tariq\")\n",
    "a : int = 7\n",
    "b : int = 5\n",
    "\n",
    "print (a + b)\n",
    "\"\"\"\n",
    "exec(emp_detail)"
   ]
  },
  {
   "cell_type": "markdown",
   "metadata": {},
   "source": [
    "# Function dir() - returns all properties and methods"
   ]
  },
  {
   "cell_type": "code",
   "execution_count": 22,
   "metadata": {},
   "outputs": [
    {
     "name": "stdout",
     "output_type": "stream",
     "text": [
      "['capitalize', 'casefold', 'center', 'count', 'encode', 'endswith', 'expandtabs', 'find', 'format', 'format_map', 'index', 'isalnum', 'isalpha', 'isascii', 'isdecimal', 'isdigit', 'isidentifier', 'islower', 'isnumeric', 'isprintable', 'isspace', 'istitle', 'isupper', 'join', 'ljust', 'lower', 'lstrip', 'maketrans', 'partition', 'removeprefix', 'removesuffix', 'replace', 'rfind', 'rindex', 'rjust', 'rpartition', 'rsplit', 'rstrip', 'split', 'splitlines', 'startswith', 'strip', 'swapcase', 'title', 'translate', 'upper', 'zfill']\n",
      "47\n"
     ]
    }
   ],
   "source": [
    "a : list[str] = [i for i in dir(str) if \"__\" not in i]\n",
    "print (a)\n",
    "print (len(a))"
   ]
  },
  {
   "cell_type": "markdown",
   "metadata": {},
   "source": [
    "# Pandas Library   "
   ]
  },
  {
   "cell_type": "code",
   "execution_count": 1,
   "metadata": {},
   "outputs": [
    {
     "data": {
      "text/html": [
       "<div>\n",
       "<style scoped>\n",
       "    .dataframe tbody tr th:only-of-type {\n",
       "        vertical-align: middle;\n",
       "    }\n",
       "\n",
       "    .dataframe tbody tr th {\n",
       "        vertical-align: top;\n",
       "    }\n",
       "\n",
       "    .dataframe thead th {\n",
       "        text-align: right;\n",
       "    }\n",
       "</style>\n",
       "<table border=\"1\" class=\"dataframe\">\n",
       "  <thead>\n",
       "    <tr style=\"text-align: right;\">\n",
       "      <th></th>\n",
       "      <th>Operator</th>\n",
       "      <th>Name</th>\n",
       "      <th>Example</th>\n",
       "      <th>Try it</th>\n",
       "    </tr>\n",
       "  </thead>\n",
       "  <tbody>\n",
       "    <tr>\n",
       "      <th>0</th>\n",
       "      <td>+</td>\n",
       "      <td>Addition</td>\n",
       "      <td>x + y</td>\n",
       "      <td>Try it »</td>\n",
       "    </tr>\n",
       "    <tr>\n",
       "      <th>1</th>\n",
       "      <td>-</td>\n",
       "      <td>Subtraction</td>\n",
       "      <td>x - y</td>\n",
       "      <td>Try it »</td>\n",
       "    </tr>\n",
       "    <tr>\n",
       "      <th>2</th>\n",
       "      <td>*</td>\n",
       "      <td>Multiplication</td>\n",
       "      <td>x * y</td>\n",
       "      <td>Try it »</td>\n",
       "    </tr>\n",
       "    <tr>\n",
       "      <th>3</th>\n",
       "      <td>/</td>\n",
       "      <td>Division</td>\n",
       "      <td>x / y</td>\n",
       "      <td>Try it »</td>\n",
       "    </tr>\n",
       "    <tr>\n",
       "      <th>4</th>\n",
       "      <td>%</td>\n",
       "      <td>Modulus</td>\n",
       "      <td>x % y</td>\n",
       "      <td>Try it »</td>\n",
       "    </tr>\n",
       "    <tr>\n",
       "      <th>5</th>\n",
       "      <td>**</td>\n",
       "      <td>Exponentiation</td>\n",
       "      <td>x ** y</td>\n",
       "      <td>Try it »</td>\n",
       "    </tr>\n",
       "    <tr>\n",
       "      <th>6</th>\n",
       "      <td>//</td>\n",
       "      <td>Floor division</td>\n",
       "      <td>x // y</td>\n",
       "      <td>Try it »</td>\n",
       "    </tr>\n",
       "  </tbody>\n",
       "</table>\n",
       "</div>"
      ],
      "text/plain": [
       "  Operator            Name Example    Try it\n",
       "0        +        Addition   x + y  Try it »\n",
       "1        -     Subtraction   x - y  Try it »\n",
       "2        *  Multiplication   x * y  Try it »\n",
       "3        /        Division   x / y  Try it »\n",
       "4        %         Modulus   x % y  Try it »\n",
       "5       **  Exponentiation  x ** y  Try it »\n",
       "6       //  Floor division  x // y  Try it »"
      ]
     },
     "execution_count": 1,
     "metadata": {},
     "output_type": "execute_result"
    }
   ],
   "source": [
    "import pandas as pd\n",
    "\n",
    "table = pd.read_html('https://www.w3schools.com/python/python_operators.asp')\n",
    "table[0]\n"
   ]
  },
  {
   "cell_type": "markdown",
   "metadata": {},
   "source": [
    "# Multiple assignment (Unpacking)"
   ]
  },
  {
   "cell_type": "code",
   "execution_count": 19,
   "metadata": {},
   "outputs": [
    {
     "name": "stdout",
     "output_type": "stream",
     "text": [
      "Tariq Maqbool\n",
      "40\n",
      "5.6\n",
      "-----------\n",
      "Tariq Maqbool\n",
      "40 5.6\n",
      "-----------\n",
      "('Tariq Maqbool', 40, 5.6)\n",
      "Tariq Maqbool 40 5.6\n"
     ]
    }
   ],
   "source": [
    "a, b, c = \"Tariq Maqbool\", 40, 5.6\n",
    "print(a)\n",
    "print(b)\n",
    "print(c)\n",
    "\n",
    "print(\"-----------\")\n",
    "\n",
    "a, *b = \"Tariq Maqbool\", 40, 5.6\n",
    "print(a)\n",
    "print(*b)\n",
    "\n",
    "print(\"-----------\")\n",
    "\n",
    "a = \"Tariq Maqbool\", 40, 5.6\n",
    "print(a)\n",
    "print(*a)\n"
   ]
  },
  {
   "cell_type": "markdown",
   "metadata": {},
   "source": [
    "# Walrus operator (:=) start 3.8 python"
   ]
  },
  {
   "cell_type": "code",
   "execution_count": 71,
   "metadata": {},
   "outputs": [
    {
     "name": "stdout",
     "output_type": "stream",
     "text": [
      "15 is greater than 10\n",
      "-----------\n",
      "Data List: [1, 2, 3, 4, 5, 6, 7, 8, 9, 10]\n",
      "Greater than 5: [6, 7, 8, 9, 10]\n",
      "-----------\n",
      "Processing 1 (index 0)\n",
      "Processing 4 (index 1)\n",
      "Stopped at 7 (index 2), as it is greater than or equal to 5\n"
     ]
    }
   ],
   "source": [
    "n = 15\n",
    "if (m := n) > 10:\n",
    "    print(f\"{m} is greater than 10\")\n",
    "else:\n",
    "    print(f\"{m} is not greater than 10\")\n",
    "print(\"-----------\")    \n",
    "    \n",
    "data = [1, 2, 3, 4, 5, 6, 7, 8, 9, 10]\n",
    "result = []\n",
    "\n",
    "for item in data:\n",
    "    if item > 5:\n",
    "        result.append(item)\n",
    "print(f\"Data List: {data}\")\n",
    "print(f\"Greater than 5: {result}\")\n",
    "\n",
    "    \n",
    "print(\"-----------\")\n",
    "\n",
    "numbers = [1, 4, 7, 2, 8, 5]\n",
    "threshold = 5\n",
    "index = 0\n",
    "\n",
    "while (current := numbers[index]) < threshold:\n",
    "    print(f\"Processing {current} (index {index})\")\n",
    "    index += 1\n",
    "\n",
    "print(f\"Stopped at {current} (index {index}), as it is greater than or equal to {threshold}\")\n",
    "    "
   ]
  },
  {
   "cell_type": "markdown",
   "metadata": {},
   "source": [
    "# List / Indexing and Slicing\n",
    "    *Postive and negative  Index"
   ]
  },
  {
   "cell_type": "code",
   "execution_count": 120,
   "metadata": {},
   "outputs": [
    {
     "name": "stdout",
     "output_type": "stream",
     "text": [
      "Long value for understand (10_000_00): 1000000\n",
      "['1', '2', '3', '4', '5', '6', '7', '8', '9', '0']\n",
      "-----------\n",
      "Postive --> [10, 20, 30]\n",
      "Negative  --> [50, 40]\n"
     ]
    }
   ],
   "source": [
    "a : int = 10_000_00\n",
    "print(f\"Long value for understand (10_000_00): {a}\")\n",
    "\n",
    "my_list : list[str] = list(\"1234567890\")\n",
    "print(my_list) \n",
    "print(\"-----------\")\n",
    "\n",
    "my_list = [10, 20, 30, 40, 50]\n",
    "\n",
    "# Basic slicing\n",
    "print(f\"Postive --> {my_list[0:3]}\")  \n",
    "print(f\"Negative  --> {my_list[-1:-3:-1]}\")  "
   ]
  },
  {
   "cell_type": "markdown",
   "metadata": {},
   "source": [
    "# List Functions    "
   ]
  },
  {
   "cell_type": "code",
   "execution_count": 1,
   "metadata": {},
   "outputs": [
    {
     "name": "stdout",
     "output_type": "stream",
     "text": [
      "My List :['1', '2', '3', '4', '5', '6', '7', '8', '9', '0']\n",
      "Pop (remove) Index 1: 3\n",
      "My List (Updated) :['1', '2', '4', '5', '6', '7', '8', '9', '0']\n",
      "My List (Updated) :['1', '2', '4', '5', '6', '7', '8', '9', '0', '3']\n",
      "My List (Updated) :['1', '2', '3', '4', '5', '6', '7', '8', '9', '0']\n",
      "My List (Extended) :['1', '2', '3', '4', '5', '6', '7', '8', '9', '0', '1011', '1012', '1013']\n"
     ]
    }
   ],
   "source": [
    "my_list : list[str] = ['1', '2', '3', '4', '5', '6', '7', '8', '9', '0']\n",
    "print(f\"My List :{my_list}\")\n",
    "print(f\"Pop (remove) Index 1: {my_list.pop(2)}\")\n",
    "print(f\"My List (Updated) :{my_list}\")\n",
    "my_list.append(\"3\")\n",
    "print(f\"My List (Updated) :{my_list}\")\n",
    "my_list.insert(2,\"3\")\n",
    "my_list.pop(10)\n",
    "print(f\"My List (Updated) :{my_list}\")\n",
    "new_list : list[str] = [\"1011\",\"1012\",\"1013\"]\n",
    "my_list.extend(new_list)\n",
    "print(f\"My List (Extended) :{my_list}\")"
   ]
  },
  {
   "cell_type": "markdown",
   "metadata": {},
   "source": [
    "# Loop Iteration Standard   "
   ]
  },
  {
   "cell_type": "code",
   "execution_count": 17,
   "metadata": {},
   "outputs": [
    {
     "name": "stdout",
     "output_type": "stream",
     "text": [
      "Name: Tariq\n",
      "Name: Maqbool\n",
      "Name: Nadeem\n",
      "Name: Fahim\n",
      "Name: Ali\n",
      "-------\n",
      "Name: Maqbool\n",
      "-------\n",
      "2 x 1 = 2\n",
      "2 x 2 = 4\n",
      "2 x 3 = 6\n",
      "2 x 4 = 8\n",
      "2 x 5 = 10\n",
      "2 x 6 = 12\n",
      "2 x 7 = 14\n",
      "2 x 8 = 16\n",
      "2 x 9 = 18\n",
      "2 x 10 = 20\n"
     ]
    }
   ],
   "source": [
    "members : list [str] = [\"Tariq\", \"Maqbool\", \"Nadeem\", \"Fahim\",\"Ali\"]\n",
    "\n",
    "for member in members:\n",
    "    print(f\"Name: {member}\")\n",
    "print (\"-------\")\n",
    "for member in members[1:2:1]:\n",
    "    print(f\"Name: {member}\")\n",
    "    \n",
    "print (\"-------\")\n",
    "for t in range(1,11,1):\n",
    "    print(f\"2 x {t} = {2*t}\")"
   ]
  },
  {
   "cell_type": "markdown",
   "metadata": {},
   "source": [
    "# Tuple List  & Comperhansive List"
   ]
  },
  {
   "cell_type": "code",
   "execution_count": 49,
   "metadata": {},
   "outputs": [
    {
     "name": "stdout",
     "output_type": "stream",
     "text": [
      "PreType List or Tuple by Union\n",
      "Name: Tariq\n",
      "Name: ['Nadeem', 65, 1]\n",
      "Name: 1980\n",
      "Name: 5.5\n",
      "------\n",
      "Member list (Updated): ['Tariq', ['Nadeem', 65, 1, '20'], 1980, 5.5]\n",
      "------\n",
      "Comperhansive List:\n",
      "('Tariq', 30, 110.2)\n"
     ]
    }
   ],
   "source": [
    "from typing import Union\n",
    "pretype = Union[str,float,int]\n",
    "\n",
    "members : tuple [pretype] = [\"Tariq\", [\"Nadeem\", 65, 1], 1980, 5.5]\n",
    "print(\"PreType List or Tuple by Union\")\n",
    "for member in members:\n",
    "    print(f\"Name: {member}\")\n",
    "\n",
    "members[1].append(\"20\")\n",
    "print(\"------\")\n",
    "print(f\"Member list (Updated): {members}\")\n",
    "print(\"------\")\n",
    "print(f\"Comperhansive List:\")\n",
    "\n",
    "\n",
    "student : Union[str,int] = \"Tariq\",30,110.2\n",
    "print(student)"
   ]
  },
  {
   "cell_type": "markdown",
   "metadata": {},
   "source": [
    "# Zip and Unzip "
   ]
  },
  {
   "cell_type": "code",
   "execution_count": 51,
   "metadata": {},
   "outputs": [
    {
     "name": "stdout",
     "output_type": "stream",
     "text": [
      "[('Tariq', 40), ('Maqbool', 50), ('Nadeem', 70), ('Fahim', 55), ('Ali', 23)]\n"
     ]
    }
   ],
   "source": [
    "members : list [str] = [\"Tariq\", \"Maqbool\", \"Nadeem\", \"Fahim\",\"Ali\"]\n",
    "member_age : list[int] = [40, 50, 70, 55,23]\n",
    "member_data : list[Any] = zip(members, member_age)\n"
   ]
  }
 ],
 "metadata": {
  "kernelspec": {
   "display_name": "base",
   "language": "python",
   "name": "python3"
  },
  "language_info": {
   "codemirror_mode": {
    "name": "ipython",
    "version": 3
   },
   "file_extension": ".py",
   "mimetype": "text/x-python",
   "name": "python",
   "nbconvert_exporter": "python",
   "pygments_lexer": "ipython3",
   "version": "3.12.0"
  }
 },
 "nbformat": 4,
 "nbformat_minor": 2
}
