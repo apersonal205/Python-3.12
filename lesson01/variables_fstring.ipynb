{
 "cells": [
  {
   "cell_type": "markdown",
   "metadata": {},
   "source": [
    "# Define veriable and naming convention (Ref:PP8) "
   ]
  },
  {
   "cell_type": "code",
   "execution_count": 15,
   "metadata": {},
   "outputs": [
    {
     "name": "stdout",
     "output_type": "stream",
     "text": [
      "Emp Name: Tariq Maqbool \n",
      "Father Name: Maqbool Hussain\n",
      "Age: 30\n"
     ]
    }
   ],
   "source": [
    "name : str = \"Tariq Maqbool \"\n",
    "f_name : str = \"Maqbool Hussain\"\n",
    "age : int = 30\n",
    "print(\"Emp Name: \" + name)\n",
    "print(\"Father Name: \" + f_name)\n",
    "print(\"Age: \" + str(age))\n",
    "\n"
   ]
  },
  {
   "cell_type": "markdown",
   "metadata": {},
   "source": [
    "# Python before and New feature f-string (py-12)"
   ]
  },
  {
   "cell_type": "code",
   "execution_count": 35,
   "metadata": {},
   "outputs": [
    {
     "name": "stdout",
     "output_type": "stream",
     "text": [
      "Result with old style: \n",
      "Emp Name:  \n",
      "Father Name: \n",
      "Age: \n",
      "\n",
      "Result with f-string: \n",
      "Emp Name: Tariq Maqbool  \n",
      "Father Name: Maqbool Hussain\n",
      "Age: 30\n",
      "\n"
     ]
    }
   ],
   "source": [
    "name : str = \"Tariq Maqbool \"\n",
    "f_name : str = \"Maqbool Hussain\"\n",
    "age : int = 30\n",
    "result : str = \"\"\"\n",
    "Emp Name:  \n",
    "Father Name: \n",
    "Age: \n",
    "\"\"\"\n",
    "print(\"Result with old style: \"+ result)\n",
    "\n",
    "fstring_result : str = f\"\"\"\n",
    "Emp Name: {name} \n",
    "Father Name: {f_name}\n",
    "Age: {age}\n",
    "\"\"\"\n",
    "print(\"Result with f-string: \"+ fstring_result)\n"
   ]
  },
  {
   "cell_type": "markdown",
   "metadata": {},
   "source": [
    "# formating with .format style "
   ]
  },
  {
   "cell_type": "code",
   "execution_count": 44,
   "metadata": {},
   "outputs": [
    {
     "name": "stdout",
     "output_type": "stream",
     "text": [
      "Result with '%' style: \n",
      "Emp Name: Tariq Maqbool  \n",
      "Father Name: Maqbool Hussain \n",
      "Age: 30\n",
      "\n",
      "Result with formatiing style: \n",
      "Emp Name: Tariq Maqbool  \n",
      "Father Name: Maqbool Hussain \n",
      "Age: 30\n",
      "\n",
      "Result with Ref formatiing style: \n",
      "Emp Name: Tariq Maqbool  \n",
      "Father Name: Maqbool Hussain \n",
      "Age: 30\n",
      "\n"
     ]
    }
   ],
   "source": [
    "\n",
    "result : str = \"\"\"\n",
    "Emp Name: %s \n",
    "Father Name: %s \n",
    "Age: %d\n",
    "\"\"\"%(name, f_name,age)\n",
    "print(\"Result with '%' style: \"+ result)\n",
    "\n",
    "\n",
    "result : str = \"\"\"\n",
    "Emp Name: {0} \n",
    "Father Name: {1} \n",
    "Age: {2}\n",
    "\"\"\".format(name, f_name,age)\n",
    "print(\"Result with formatiing style: \"+ result)\n",
    "\n",
    "\n",
    "result : str = \"\"\"\n",
    "Emp Name: {a} \n",
    "Father Name: {b} \n",
    "Age: {c}\n",
    "\"\"\".format(a=name, b=f_name,c=age)\n",
    "print(\"Result with Ref formatiing style: \"+ result)"
   ]
  }
 ],
 "metadata": {
  "kernelspec": {
   "display_name": "base",
   "language": "python",
   "name": "python3"
  },
  "language_info": {
   "codemirror_mode": {
    "name": "ipython",
    "version": 3
   },
   "file_extension": ".py",
   "mimetype": "text/x-python",
   "name": "python",
   "nbconvert_exporter": "python",
   "pygments_lexer": "ipython3",
   "version": "3.11.5"
  }
 },
 "nbformat": 4,
 "nbformat_minor": 2
}
