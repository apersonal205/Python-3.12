{
 "cells": [
  {
   "cell_type": "markdown",
   "metadata": {},
   "source": [
    "# Define veriable and naming convention (Ref:PP8) "
   ]
  },
  {
   "cell_type": "code",
   "execution_count": null,
   "metadata": {},
   "outputs": [
    {
     "name": "stdout",
     "output_type": "stream",
     "text": [
      "Emp Name: Tariq Maqbool \n",
      "Father Name: Maqbool Hussain\n",
      "Age: 30\n"
     ]
    }
   ],
   "source": [
    "name : str = \"Tariq Maqbool \"\n",
    "f_name : str = \"Maqbool Hussain\"\n",
    "age : int = 30\n",
    "print(\"Emp Name: \" + name)\n",
    "print(\"Father Name: \" + f_name)\n",
    "print(\"Age: \" + str(age))\n",
    "\n"
   ]
  },
  {
   "cell_type": "markdown",
   "metadata": {},
   "source": [
    "# Python before and New feature f-string (py-12)"
   ]
  },
  {
   "cell_type": "code",
   "execution_count": 1,
   "metadata": {},
   "outputs": [
    {
     "name": "stdout",
     "output_type": "stream",
     "text": [
      "Result with old style: \n",
      "Emp Name: AA\n",
      "Father Name: \n",
      "Age: \n",
      "\n"
     ]
    },
    {
     "ename": "NameError",
     "evalue": "name 'name' is not defined",
     "output_type": "error",
     "traceback": [
      "\u001b[1;31m---------------------------------------------------------------------------\u001b[0m",
      "\u001b[1;31mNameError\u001b[0m                                 Traceback (most recent call last)",
      "Cell \u001b[1;32mIn[1], line 9\u001b[0m\n\u001b[0;32m      1\u001b[0m result : \u001b[38;5;28mstr\u001b[39m \u001b[38;5;241m=\u001b[39m \u001b[38;5;124m\"\"\"\u001b[39m\n\u001b[0;32m      2\u001b[0m \u001b[38;5;124mEmp Name: AA\u001b[39m\n\u001b[0;32m      3\u001b[0m \u001b[38;5;124mFather Name: \u001b[39m\n\u001b[0;32m      4\u001b[0m \u001b[38;5;124mAge: \u001b[39m\n\u001b[0;32m      5\u001b[0m \u001b[38;5;124m\"\"\"\u001b[39m\n\u001b[0;32m      6\u001b[0m \u001b[38;5;28mprint\u001b[39m(\u001b[38;5;124m\"\u001b[39m\u001b[38;5;124mResult with old style: \u001b[39m\u001b[38;5;124m\"\u001b[39m\u001b[38;5;241m+\u001b[39m result)\n\u001b[0;32m      8\u001b[0m fstring_result : \u001b[38;5;28mstr\u001b[39m \u001b[38;5;241m=\u001b[39m \u001b[38;5;124mf\u001b[39m\u001b[38;5;124m\"\"\"\u001b[39m\n\u001b[1;32m----> 9\u001b[0m \u001b[38;5;124mEmp Name: \u001b[39m\u001b[38;5;132;01m{\u001b[39;00mname\u001b[38;5;132;01m}\u001b[39;00m\u001b[38;5;124m \u001b[39m\n\u001b[0;32m     10\u001b[0m \u001b[38;5;124mFather Name: \u001b[39m\u001b[38;5;132;01m{\u001b[39;00mf_name\u001b[38;5;132;01m}\u001b[39;00m\n\u001b[0;32m     11\u001b[0m \u001b[38;5;124mAge: \u001b[39m\u001b[38;5;132;01m{\u001b[39;00mage\u001b[38;5;132;01m}\u001b[39;00m\n\u001b[0;32m     12\u001b[0m \u001b[38;5;124m\"\"\"\u001b[39m\n\u001b[0;32m     13\u001b[0m \u001b[38;5;28mprint\u001b[39m(\u001b[38;5;124m\"\u001b[39m\u001b[38;5;124mResult with f-string: \u001b[39m\u001b[38;5;124m\"\u001b[39m\u001b[38;5;241m+\u001b[39m fstring_result)\n",
      "\u001b[1;31mNameError\u001b[0m: name 'name' is not defined"
     ]
    }
   ],
   "source": [
    "result : str = \"\"\"\n",
    "Emp Name: AA\n",
    "Father Name: \n",
    "Age: \n",
    "\"\"\"\n",
    "print(\"Result with old style: \"+ result)\n",
    "\n",
    "fstring_result : str = f\"\"\"\n",
    "Emp Name: {name} \n",
    "Father Name: {f_name}\n",
    "Age: {age}\n",
    "\"\"\"\n",
    "print(\"Result with f-string: \"+ fstring_result)\n"
   ]
  },
  {
   "cell_type": "markdown",
   "metadata": {},
   "source": [
    "# formating with .format style "
   ]
  },
  {
   "cell_type": "code",
   "execution_count": 44,
   "metadata": {},
   "outputs": [
    {
     "name": "stdout",
     "output_type": "stream",
     "text": [
      "Result with '%' style: \n",
      "Emp Name: Tariq Maqbool  \n",
      "Father Name: Maqbool Hussain \n",
      "Age: 30\n",
      "\n",
      "Result with formatiing style: \n",
      "Emp Name: Tariq Maqbool  \n",
      "Father Name: Maqbool Hussain \n",
      "Age: 30\n",
      "\n",
      "Result with Ref formatiing style: \n",
      "Emp Name: Tariq Maqbool  \n",
      "Father Name: Maqbool Hussain \n",
      "Age: 30\n",
      "\n"
     ]
    }
   ],
   "source": [
    "\n",
    "result : str = \"\"\"\n",
    "Emp Name: %s \n",
    "Father Name: %s \n",
    "Age: %d\n",
    "\"\"\"%(name, f_name,age)\n",
    "print(\"Result with '%' style: \"+ result)\n",
    "\n",
    "\n",
    "result : str = \"\"\"\n",
    "Emp Name: {0} \n",
    "Father Name: {1} \n",
    "Age: {2}\n",
    "\"\"\".format(name, f_name,age)\n",
    "print(\"Result with formatiing style: \"+ result)\n",
    "\n",
    "\n",
    "result : str = \"\"\"\n",
    "Emp Name: {a} \n",
    "Father Name: {b} \n",
    "Age: {c}\n",
    "\"\"\".format(a=name, b=f_name,c=age)\n",
    "print(\"Result with Ref formatiing style: \"+ result)"
   ]
  }
 ],
 "metadata": {
  "kernelspec": {
   "display_name": "base",
   "language": "python",
   "name": "python3"
  },
  "language_info": {
   "codemirror_mode": {
    "name": "ipython",
    "version": 3
   },
   "file_extension": ".py",
   "mimetype": "text/x-python",
   "name": "python",
   "nbconvert_exporter": "python",
   "pygments_lexer": "ipython3",
   "version": "3.11.5"
  }
 },
 "nbformat": 4,
 "nbformat_minor": 2
}
