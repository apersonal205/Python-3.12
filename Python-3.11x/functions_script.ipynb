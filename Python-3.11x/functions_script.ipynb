{
 "cells": [
  {
   "cell_type": "markdown",
   "metadata": {},
   "source": [
    "# List / Indexing and Slicing\n",
    "    *Postive and negative  Index"
   ]
  },
  {
   "cell_type": "code",
   "execution_count": 2,
   "metadata": {},
   "outputs": [
    {
     "name": "stdout",
     "output_type": "stream",
     "text": [
      "Long value for understand (10_000_00): 1000000\n",
      "['1', '2', '3', '4', '5', '6', '7', '8', '9', '0']\n",
      "-----------\n",
      "Postive --> [10, 20, 30]\n",
      "Negative  --> [50, 40]\n"
     ]
    }
   ],
   "source": [
    "a : int = 10_000_00\n",
    "print(f\"Long value for understand (10_000_00): {a}\")\n",
    "\n",
    "my_list : list[str] = list(\"1234567890\")\n",
    "print(my_list) \n",
    "print(\"-----------\")\n",
    "\n",
    "my_list = [10, 20, 30, 40, 50]\n",
    "\n",
    "# Basic slicing\n",
    "print(f\"Postive --> {my_list[0:3]}\")  \n",
    "print(f\"Negative  --> {my_list[-1:-3:-1]}\")  "
   ]
  }
 ],
 "metadata": {
  "kernelspec": {
   "display_name": "python12",
   "language": "python",
   "name": "python3"
  },
  "language_info": {
   "codemirror_mode": {
    "name": "ipython",
    "version": 3
   },
   "file_extension": ".py",
   "mimetype": "text/x-python",
   "name": "python",
   "nbconvert_exporter": "python",
   "pygments_lexer": "ipython3",
   "version": "3.12.0"
  }
 },
 "nbformat": 4,
 "nbformat_minor": 2
}
