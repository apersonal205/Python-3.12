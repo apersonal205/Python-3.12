{
 "cells": [
  {
   "cell_type": "markdown",
   "metadata": {},
   "source": [
    "# Variable Types "
   ]
  },
  {
   "cell_type": "code",
   "execution_count": 2,
   "metadata": {},
   "outputs": [
    {
     "name": "stdout",
     "output_type": "stream",
     "text": [
      "Tariq Maqbool is 42 year(s) old and his family members: ['Tariq', 'Rizwan', 'Nadeem']\n"
     ]
    }
   ],
   "source": [
    "# Integer variable\n",
    "age : int = 42\n",
    "\n",
    "# Float variable\n",
    "height : float = 5.6\n",
    "\n",
    "# String variable\n",
    "name : str = \"Tariq Maqbool\"\n",
    "\n",
    "# List variable\n",
    "family_member : list[str] = [\"Tariq\", \"Rizwan\", \"Nadeem\"]\n",
    "\n",
    "print (f\"{name} is {age} year(s) old and his family members: {family_member}\")"
   ]
  },
  {
   "cell_type": "markdown",
   "metadata": {},
   "source": [
    "# Dictionary Variable"
   ]
  },
  {
   "cell_type": "code",
   "execution_count": 1,
   "metadata": {},
   "outputs": [
    {
     "name": "stdout",
     "output_type": "stream",
     "text": [
      "Name: Tariq Maqbool\n",
      "Age: 42\n",
      "City: Muscat\n",
      "{'name': 'Tariq Maqbool', 'age': 42, 'city': 'Muscat', 'occupation': 'Engineer'}\n"
     ]
    }
   ],
   "source": [
    "# Creating a dictionary\n",
    "my_dict : dict[str, str] = {\n",
    "    \"name\": \"Tariq Maqbool\",\n",
    "    \"age\": 42,\n",
    "    \"city\": \"Muscat\"\n",
    "}\n",
    "\n",
    "# Accessing values using keys\n",
    "print(\"Name:\", my_dict[\"name\"])\n",
    "print(\"Age:\", my_dict[\"age\"])\n",
    "print(\"City:\", my_dict[\"city\"])\n",
    "\n",
    "# Adding a new key-value pair\n",
    "my_dict[\"occupation\"] = \"Engineer\"\n",
    "print(my_dict)"
   ]
  },
  {
   "cell_type": "markdown",
   "metadata": {},
   "source": [
    "# Jinja style"
   ]
  },
  {
   "cell_type": "code",
   "execution_count": 4,
   "metadata": {},
   "outputs": [
    {
     "name": "stdout",
     "output_type": "stream",
     "text": [
      "Detail: {{age}} \n"
     ]
    }
   ],
   "source": [
    "print(\"Detail: {{age}} \")"
   ]
  }
 ],
 "metadata": {
  "kernelspec": {
   "display_name": "python12",
   "language": "python",
   "name": "python3"
  },
  "language_info": {
   "codemirror_mode": {
    "name": "ipython",
    "version": 3
   },
   "file_extension": ".py",
   "mimetype": "text/x-python",
   "name": "python",
   "nbconvert_exporter": "python",
   "pygments_lexer": "ipython3",
   "version": "3.12.0"
  }
 },
 "nbformat": 4,
 "nbformat_minor": 2
}
